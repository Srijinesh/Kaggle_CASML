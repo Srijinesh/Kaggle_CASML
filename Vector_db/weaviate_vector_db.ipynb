{
 "cells": [
  {
   "cell_type": "code",
   "execution_count": 1,
   "id": "e5264ecd",
   "metadata": {},
   "outputs": [
    {
     "name": "stderr",
     "output_type": "stream",
     "text": [
      "c:\\MY FILES\\UMD\\Kaggle_CASML\\.venv\\Lib\\site-packages\\tqdm\\auto.py:21: TqdmWarning: IProgress not found. Please update jupyter and ipywidgets. See https://ipywidgets.readthedocs.io/en/stable/user_install.html\n",
      "  from .autonotebook import tqdm as notebook_tqdm\n"
     ]
    },
    {
     "data": {
      "text/plain": [
       "True"
      ]
     },
     "execution_count": 1,
     "metadata": {},
     "output_type": "execute_result"
    }
   ],
   "source": [
    "from langchain.text_splitter import RecursiveCharacterTextSplitter, TokenTextSplitter\n",
    "from langchain_huggingface import HuggingFaceEmbeddings\n",
    "from transformers import AutoModelForCausalLM, AutoTokenizer\n",
    "\n",
    "import weaviate\n",
    "from weaviate.classes.init import Auth\n",
    "from weaviate.classes.config import Configure\n",
    "import os\n",
    "import json\n",
    "from dotenv import load_dotenv\n",
    "load_dotenv()"
   ]
  },
  {
   "cell_type": "code",
   "execution_count": null,
   "id": "dc030bd6",
   "metadata": {},
   "outputs": [],
   "source": [
    "\n",
    "# Replace with the correct model name for Llama 2 2B (check HuggingFace Model Hub for the exact name)\n",
    "model_name = \"EleutherAI/gpt-neo-2.7B\"\n",
    "\n",
    "tokenizer = AutoTokenizer.from_pretrained(model_name)\n",
    "llm = AutoModelForCausalLM.from_pretrained(model_name)\n",
    "embeddings = HuggingFaceEmbeddings(model_name=\"sentence-transformers/all-MiniLM-L6-v2\")"
   ]
  },
  {
   "cell_type": "code",
   "execution_count": 29,
   "id": "11c37271",
   "metadata": {},
   "outputs": [
    {
     "name": "stdout",
     "output_type": "stream",
     "text": [
      "True\n"
     ]
    }
   ],
   "source": [
    "# Best practice: store your credentials in environment variables\n",
    "weaviate_url = os.getenv(\"WEAVIATE_REST_ENDPOINT\")\n",
    "weaviate_api_key = os.getenv(\"WEAVIATE_API_KEY\")\n",
    "\n",
    "client = weaviate.connect_to_weaviate_cloud(\n",
    "    cluster_url=weaviate_url,\n",
    "    auth_credentials=Auth.api_key(weaviate_api_key),\n",
    ")\n",
    "\n",
    "print(client.is_ready())  # Should print: `True`\n"
   ]
  },
  {
   "cell_type": "code",
   "execution_count": 5,
   "id": "0c85b1fb",
   "metadata": {},
   "outputs": [],
   "source": [
    "raw_data = client.collections.create(\n",
    "    name=\"RawPsychologyData\",\n",
    "    vectorizer_config=Configure.Vectorizer.text2vec_weaviate(), # Configure the Weaviate Embeddings integration\n",
    "    generative_config=Configure.Generative.cohere()             # Configure the Cohere generative AI integration\n",
    ")"
   ]
  },
  {
   "cell_type": "code",
   "execution_count": 6,
   "id": "b6704975",
   "metadata": {},
   "outputs": [
    {
     "name": "stderr",
     "output_type": "stream",
     "text": [
      "C:\\Users\\Peeyush\\AppData\\Local\\Temp\\ipykernel_36156\\557314951.py:1: ResourceWarning: unclosed file <_io.TextIOWrapper name='../Data/page_section.json' mode='r' encoding='cp1252'>\n",
      "  section_page_data = json.load(open(\"../Data/page_section.json\", \"r\"))\n",
      "ResourceWarning: Enable tracemalloc to get the object allocation traceback\n"
     ]
    },
    {
     "data": {
      "text/plain": [
       "{'page': 7,\n",
       " 'heading': 'Introduction to Psychology',\n",
       " 'data': 'Page 7Introduction to Psychology1FIGURE 1.1 Psychology is the scientific study of mind and behavior. (credit \"background\": modification of work byNattachai Noogure; credit \"top left\": modification of work by Peter Shanks; credit \"top middle\": modification of workby \"devinf\"/Flickr; credit \"top right\": modification of work by Alejandra Quintero Sinisterra; credit \"bottom left\":modification of work by Gabriel Rocha; credit \"bottom middle-left\": modification of work by Caleb Roenigk; credit\"bottom middle-right\": modification of work by Staffan Scherz; credit \"bottom right\": modification of work by CzechProvincial Reconstruction Team)INTRODUCTIONClive Wearing is an accomplished musician who lost his ability to form new memories whenhe became sick at the age of 46. While he can remember how to play the piano perfectly, he cannot rememberwhat he ate for breakfast just an hour ago (Sacks, 2007). James Wannerton experiences a taste sensation that isassociated with the sound of words. His former girlfriend’s name tastes like rhubarb (Mundasad, 2013). JohnNash is a brilliant mathematician and Nobel Prize winner. However, while he was a professor at MIT, he wouldtell people that the New York Timescontained coded messages from extraterrestrial beings that were intendedfor him. He also began to hear voices and became suspicious of the people around him. Soon thereafter, Nashwas diagnosed with schizophrenia and admitted to a state-run mental institution (O’Connor & Robertson,'}"
      ]
     },
     "execution_count": 6,
     "metadata": {},
     "output_type": "execute_result"
    }
   ],
   "source": [
    "section_page_data = json.load(open(\"../Data/page_section.json\", \"r\"))\n",
    "section_page_data[0]"
   ]
  },
  {
   "cell_type": "code",
   "execution_count": 9,
   "id": "44ebcee5",
   "metadata": {},
   "outputs": [],
   "source": [
    "splitter = RecursiveCharacterTextSplitter(chunk_size=512, chunk_overlap=200)"
   ]
  },
  {
   "cell_type": "code",
   "execution_count": 12,
   "id": "1fdc7be3",
   "metadata": {},
   "outputs": [],
   "source": [
    "raw_psychology_data = client.collections.get(\"RawPsychologyData\")\n",
    "\n",
    "with raw_psychology_data.batch.fixed_size(batch_size=200) as batch:\n",
    "    for d in section_page_data:\n",
    "        # Split the text into smaller chunks\n",
    "        chunks = splitter.split_text(d[\"data\"])\n",
    "        # Add each chunk as a separate object in the batch\n",
    "        for chunk in chunks:\n",
    "            batch.add_object(\n",
    "                {\n",
    "                    \"text\": chunk,\n",
    "                    \"page\": d[\"page\"],\n",
    "                    \"heading\": d[\"heading\"],\n",
    "                }\n",
    "            )"
   ]
  },
  {
   "cell_type": "code",
   "execution_count": 17,
   "id": "06130e95",
   "metadata": {},
   "outputs": [
    {
     "name": "stderr",
     "output_type": "stream",
     "text": [
      "C:\\Users\\Peeyush\\AppData\\Local\\Temp\\ipykernel_36156\\842894065.py:1: ResourceWarning: unclosed file <_io.TextIOWrapper name='../Data/queries.json' mode='r' encoding='cp1252'>\n",
      "  questions = json.load(open(\"../Data/queries.json\", \"r\"))\n",
      "ResourceWarning: Enable tracemalloc to get the object allocation traceback\n"
     ]
    }
   ],
   "source": [
    "questions = json.load(open(\"../Data/queries.json\", \"r\"))"
   ]
  },
  {
   "cell_type": "code",
   "execution_count": 18,
   "id": "46703d4f",
   "metadata": {},
   "outputs": [
    {
     "data": {
      "text/plain": [
       "{'query_id': '1', 'question': 'What is the scientific method in psychology?'}"
      ]
     },
     "execution_count": 18,
     "metadata": {},
     "output_type": "execute_result"
    }
   ],
   "source": [
    "questions[0]"
   ]
  },
  {
   "cell_type": "code",
   "execution_count": 25,
   "id": "27d4aa3d",
   "metadata": {},
   "outputs": [
    {
     "data": {
      "text/plain": [
       "QueryReturn(objects=[Object(uuid=_WeaviateUUIDInt('0011a6f3-3780-433f-9231-055c15c6f623'), metadata=MetadataReturn(creation_time=None, last_update_time=None, distance=None, certainty=None, score=None, explain_score=None, is_consistent=None, rerank_score=None), properties={'heading': '16.2 Types of Treatment', 'page': 611.0, 'text': 'and return to his relaxed state. They repeat this scenario over and over until Jayden can imagine himselfpressing the call button without anxiety. Over time the therapist and Jayden use progressive relaxation andimagination to proceed through all of the situations on Jayden’s hierarchy until he becomes desensitized toeach one. After this, Jayden and the therapist begin to practice what he only previously envisioned in therapy,gradually going from pressing the button to actually riding an elevator. The goal'}, references=None, vector={}, collection='RawPsychologyData'), Object(uuid=_WeaviateUUIDInt('00221a06-8ed8-4cc9-bae8-d2571b9f8142'), metadata=MetadataReturn(creation_time=None, last_update_time=None, distance=None, certainty=None, score=None, explain_score=None, is_consistent=None, rerank_score=None), properties={'heading': '3.1 Human Genetics', 'page': 78.0, 'text': 'wereraised in disturbed home environments. This research lends credibility to the notion that both geneticvulnerability and environmental stress are necessary for schizophrenia to develop, and that genes alone do nottell the full tale.'}, references=None, vector={}, collection='RawPsychologyData'), Object(uuid=_WeaviateUUIDInt('0036b23f-f260-45a6-8639-b9a5a8cc53c0'), metadata=MetadataReturn(creation_time=None, last_update_time=None, distance=None, certainty=None, score=None, explain_score=None, is_consistent=None, rerank_score=None), properties={'heading': '1.3 Contemporary Psychology', 'page': 25.0, 'text': 'people to address patterns of behavior that contribute to poorer health(MacDonald, 2013).FIGURE 1.15 The biopsychosocial model suggests that health/illness is determined by an interaction of these threefactors.Sport and Exercise PsychologyResearchers in sport and exercise psychology study the psychological aspects of sport performance,including motivation and performance anxiety, and the effects of sport on mental and emotional wellbeing.Research is also conducted on similar topics as they relate to'}, references=None, vector={}, collection='RawPsychologyData'), Object(uuid=_WeaviateUUIDInt('0036b8e1-8703-4d56-98b3-37165dba4db8'), metadata=MetadataReturn(creation_time=None, last_update_time=None, distance=None, certainty=None, score=None, explain_score=None, is_consistent=None, rerank_score=None), properties={'heading': '8.3 Problems with Memory', 'page': 265.0, 'text': 'Page 2658.3 • Problems with Memory 265Schacter’s Seven Sins of MemorySinTypeDescriptionExampleTransienceForgettingAccessibility of memory decreases overtimeForget events that occurred long agoabsentmindedness ForgettingBlockingForgettingForgetting caused by lapses inattentionAccessibility of information istemporarily blockedMisattributionDistortion Source of memory is confusedForget where your phone isTip of the tongueRecalling a dream memory as awaking memorySuggestibilityDistortionFalse memoriesResult'}, references=None, vector={}, collection='RawPsychologyData'), Object(uuid=_WeaviateUUIDInt('00395946-2ca7-410f-a2a4-d65ce66c0d74'), metadata=MetadataReturn(creation_time=None, last_update_time=None, distance=None, certainty=None, score=None, explain_score=None, is_consistent=None, rerank_score=None), properties={'heading': '11.9 Personality Assessment', 'page': 396.0, 'text': 'Page 396396 11 • Review Questions15. Brianna is 18 months old. She cries frequently, is hard to soothe, and wakes frequently during the night.According to Thomas and Chess, she would be considered ________.a. an easy babyb. a difficult babyc. a slow to warm up babyd. a colicky baby16. According to the findings of the Minnesota Study of Twins Reared Apart, identical twins, whether raisedtogether or apart have ________ personalities.a. slightly differentb. very differentc. slightly similard. very similar17.'}, references=None, vector={}, collection='RawPsychologyData'), Object(uuid=_WeaviateUUIDInt('00404529-7579-41c0-8900-24a0eea4b2a7'), metadata=MetadataReturn(creation_time=None, last_update_time=None, distance=None, certainty=None, score=None, explain_score=None, is_consistent=None, rerank_score=None), properties={'heading': '8.3 Problems with Memory', 'page': 264.0, 'text': 'of witnesses. One way is to modifyhow witnesses are questioned. When interviewers use neutral and less leading language, children moreaccurately recall what happened and who was involved (Goodman, 2006; Pipe, 1996; Pipe, Lamb, Orbach, &Esplin, 2004). Another change is in how police lineups are conducted. It’s recommended that a blind photolineup be used. This way the person administering the lineup doesn’t know which photo belongs to thesuspect, minimizing the possibility of giving leading cues.'}, references=None, vector={}, collection='RawPsychologyData'), Object(uuid=_WeaviateUUIDInt('004222fe-f71c-455f-baab-d8af53655738'), metadata=MetadataReturn(creation_time=None, last_update_time=None, distance=None, certainty=None, score=None, explain_score=None, is_consistent=None, rerank_score=None), properties={'heading': '3.1 Human Genetics', 'page': 72.0, 'text': 'rateand therefore the disorder will become less common, this is not the case. Despite the negative evolutionaryeffects associated with this genetic mutation, the sickle-cell gene remains relatively common among people ofAfrican descent. Why is this? The explanation is illustrated with the following scenario.Imagine two young women—Luwi and Sena—sisters in rural Zambia, Africa. Luwi carries the gene for sickle-cell anemia; Sena does not carry the gene. Sickle-cell carriers have one copy of the sickle-cell'}, references=None, vector={}, collection='RawPsychologyData'), Object(uuid=_WeaviateUUIDInt('005fe751-0ddd-4a81-a932-077d61fd45ec'), metadata=MetadataReturn(creation_time=None, last_update_time=None, distance=None, certainty=None, score=None, explain_score=None, is_consistent=None, rerank_score=None), properties={'heading': '7.3 Problem Solving', 'page': 226.0, 'text': 'spend that you may notrecognize what kinds of houses are available at that price point.The confirmation bias is the tendency to focus on information that confirms your existing beliefs. Forexample, if you think that your professor is not very nice, you notice all of the instances of rude behaviorexhibited by the professor while ignoring the countless pleasant interactions he is involved in on a daily basis.Hindsight bias leads you to believe that the event you just experienced was predictable, even though'}, references=None, vector={}, collection='RawPsychologyData'), Object(uuid=_WeaviateUUIDInt('0064b9a7-81ee-4deb-8472-f6eba1dbc762'), metadata=MetadataReturn(creation_time=None, last_update_time=None, distance=None, certainty=None, score=None, explain_score=None, is_consistent=None, rerank_score=None), properties={'heading': '8.1 How Memory Functions', 'page': 249.0, 'text': 'they were asked to remember the words, theytended to recall them in categories, showing that they paid attention to the meanings of the words as theylearned them.Visual encoding is the encoding of images, and acoustic encoding is the encoding of sounds, words inparticular. To see how visual encoding works, read over this list of words: car, level, dog, truth, book, value. Ifyou were asked later to recall the words from this list, which ones do you think you’d most likely remember?You would probably have an'}, references=None, vector={}, collection='RawPsychologyData'), Object(uuid=_WeaviateUUIDInt('006fc1eb-1bda-4708-b3d2-533d142af815'), metadata=MetadataReturn(creation_time=None, last_update_time=None, distance=None, certainty=None, score=None, explain_score=None, is_consistent=None, rerank_score=None), properties={'heading': '6.4 Observational Learning (Modeling)', 'page': 207.0, 'text': 'is no longer paired withthe conditioned stimulusfixed interval reinforcement schedule behavior is rewarded after a set amount of timefixed ratio reinforcement schedule set number of responses must occur before a behavior is rewardedhigher-order conditioning (also, second-order conditioning) using a conditioned stimulus to condition aneutral stimulusinstinct unlearned knowledge, involving complex patterns of behavior; instincts are thought to be moreprevalent in lower animals than in humanslatent learning'}, references=None, vector={}, collection='RawPsychologyData')])"
      ]
     },
     "execution_count": 25,
     "metadata": {},
     "output_type": "execute_result"
    }
   ],
   "source": [
    "raw_psychology_data.query.fetch_objects(limit=10)  # or use pagination for large datasets"
   ]
  },
  {
   "cell_type": "code",
   "execution_count": 23,
   "id": "5a4d6430",
   "metadata": {},
   "outputs": [
    {
     "data": {
      "text/plain": [
       "''"
      ]
     },
     "execution_count": 23,
     "metadata": {},
     "output_type": "execute_result"
    }
   ],
   "source": [
    "response = raw_psychology_data.generate.near_text(\n",
    "    query=\"psychology\",\n",
    "    limit=3,\n",
    ")\n",
    "response.generated"
   ]
  },
  {
   "cell_type": "code",
   "execution_count": null,
   "id": "2ce1031e",
   "metadata": {},
   "outputs": [
    {
     "data": {
      "text/plain": [
       "''"
      ]
     },
     "execution_count": 20,
     "metadata": {},
     "output_type": "execute_result"
    }
   ],
   "source": []
  },
  {
   "cell_type": "code",
   "execution_count": null,
   "id": "0d47edc1",
   "metadata": {},
   "outputs": [],
   "source": []
  },
  {
   "cell_type": "code",
   "execution_count": 26,
   "id": "9f336dde",
   "metadata": {},
   "outputs": [],
   "source": [
    "client.close()  # Free up resources"
   ]
  },
  {
   "cell_type": "code",
   "execution_count": null,
   "id": "d907c4a7",
   "metadata": {},
   "outputs": [],
   "source": []
  }
 ],
 "metadata": {
  "kernelspec": {
   "display_name": ".venv",
   "language": "python",
   "name": "python3"
  },
  "language_info": {
   "codemirror_mode": {
    "name": "ipython",
    "version": 3
   },
   "file_extension": ".py",
   "mimetype": "text/x-python",
   "name": "python",
   "nbconvert_exporter": "python",
   "pygments_lexer": "ipython3",
   "version": "3.13.3"
  }
 },
 "nbformat": 4,
 "nbformat_minor": 5
}
