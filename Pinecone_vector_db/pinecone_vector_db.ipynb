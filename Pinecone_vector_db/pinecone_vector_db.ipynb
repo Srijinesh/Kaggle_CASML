{
 "cells": [
  {
   "cell_type": "code",
   "execution_count": 2,
   "id": "4b525e51",
   "metadata": {},
   "outputs": [],
   "source": [
    "import pinecone\n",
    "import json"
   ]
  },
  {
   "cell_type": "code",
   "execution_count": 5,
   "id": "cef332b5",
   "metadata": {},
   "outputs": [],
   "source": [
    "section_page_data = json.load(open(\"../Data/page_section.json\", \"r\"))"
   ]
  },
  {
   "cell_type": "code",
   "execution_count": 16,
   "id": "3fe2d153",
   "metadata": {},
   "outputs": [
    {
     "name": "stdout",
     "output_type": "stream",
     "text": [
      "Max data count: 4910, Max data index: 426\n"
     ]
    }
   ],
   "source": [
    "max_data_count = 0\n",
    "max_data_index = 0\n",
    "for val in section_page_data:\n",
    "    if \"page\" in val and \"heading\" in val:\n",
    "        page = val[\"page\"]\n",
    "        heading = val[\"heading\"]\n",
    "        # print(f\"data count: {len(val['data'])}, page: {page}, heading: {heading}\")\n",
    "        if len(val[\"data\"]) > max_data_count:\n",
    "            max_data_count = len(val[\"data\"])\n",
    "            max_data_index = section_page_data.index(val)\n",
    "\n",
    "print(f\"Max data count: {max_data_count}, Max data index: {max_data_index}\")"
   ]
  },
  {
   "cell_type": "code",
   "execution_count": null,
   "id": "353bc6ce",
   "metadata": {},
   "outputs": [],
   "source": []
  }
 ],
 "metadata": {
  "kernelspec": {
   "display_name": ".venv",
   "language": "python",
   "name": "python3"
  },
  "language_info": {
   "codemirror_mode": {
    "name": "ipython",
    "version": 3
   },
   "file_extension": ".py",
   "mimetype": "text/x-python",
   "name": "python",
   "nbconvert_exporter": "python",
   "pygments_lexer": "ipython3",
   "version": "3.13.5"
  }
 },
 "nbformat": 4,
 "nbformat_minor": 5
}
