{
  "metadata": {
    "kernelspec": {
      "language": "python",
      "display_name": "Python 3",
      "name": "python3"
    },
    "language_info": {
      "name": "python",
      "version": "3.11.11",
      "mimetype": "text/x-python",
      "codemirror_mode": {
        "name": "ipython",
        "version": 3
      },
      "pygments_lexer": "ipython3",
      "nbconvert_exporter": "python",
      "file_extension": ".py"
    },
    "kaggle": {
      "accelerator": "none",
      "dataSources": [
        {
          "sourceId": 89475,
          "databundleVersionId": 10464219,
          "sourceType": "competition"
        }
      ],
      "dockerImageVersionId": 31040,
      "isInternetEnabled": true,
      "language": "python",
      "sourceType": "notebook",
      "isGpuEnabled": false
    },
    "colab": {
      "name": "data_preprocess",
      "provenance": []
    }
  },
  "nbformat_minor": 0,
  "nbformat": 4,
  "cells": [
    {
      "cell_type": "code",
      "source": [
        "!pip install PyPDF2\n",
        "!pip install tqdm"
      ],
      "metadata": {
        "id": "X3N2C6Vu4emI",
        "outputId": "df7adc64-8810-46cc-cf71-54025c0f9a24",
        "colab": {
          "base_uri": "https://localhost:8080/"
        }
      },
      "execution_count": 1,
      "outputs": [
        {
          "output_type": "stream",
          "name": "stdout",
          "text": [
            "Requirement already satisfied: PyPDF2 in /usr/local/lib/python3.11/dist-packages (3.0.1)\n",
            "Requirement already satisfied: tqdm in /usr/local/lib/python3.11/dist-packages (4.67.1)\n"
          ]
        }
      ]
    },
    {
      "cell_type": "code",
      "source": [
        "!pip install fitz"
      ],
      "metadata": {
        "id": "Q5MBfGtk9jam",
        "outputId": "2a66147c-c261-4def-8105-ef2fffbcf2e7",
        "colab": {
          "base_uri": "https://localhost:8080/"
        }
      },
      "execution_count": 2,
      "outputs": [
        {
          "output_type": "stream",
          "name": "stdout",
          "text": [
            "Requirement already satisfied: fitz in /usr/local/lib/python3.11/dist-packages (0.0.1.dev2)\n",
            "Requirement already satisfied: configobj in /usr/local/lib/python3.11/dist-packages (from fitz) (5.0.9)\n",
            "Requirement already satisfied: configparser in /usr/local/lib/python3.11/dist-packages (from fitz) (7.2.0)\n",
            "Requirement already satisfied: httplib2 in /usr/local/lib/python3.11/dist-packages (from fitz) (0.22.0)\n",
            "Requirement already satisfied: nibabel in /usr/local/lib/python3.11/dist-packages (from fitz) (5.3.2)\n",
            "Requirement already satisfied: nipype in /usr/local/lib/python3.11/dist-packages (from fitz) (1.10.0)\n",
            "Requirement already satisfied: numpy in /usr/local/lib/python3.11/dist-packages (from fitz) (2.0.2)\n",
            "Requirement already satisfied: pandas in /usr/local/lib/python3.11/dist-packages (from fitz) (2.2.2)\n",
            "Requirement already satisfied: pyxnat in /usr/local/lib/python3.11/dist-packages (from fitz) (1.6.3)\n",
            "Requirement already satisfied: scipy in /usr/local/lib/python3.11/dist-packages (from fitz) (1.15.3)\n",
            "Requirement already satisfied: pyparsing!=3.0.0,!=3.0.1,!=3.0.2,!=3.0.3,<4,>=2.4.2 in /usr/local/lib/python3.11/dist-packages (from httplib2->fitz) (3.2.3)\n",
            "Requirement already satisfied: importlib-resources>=5.12 in /usr/local/lib/python3.11/dist-packages (from nibabel->fitz) (6.5.2)\n",
            "Requirement already satisfied: packaging>=20 in /usr/local/lib/python3.11/dist-packages (from nibabel->fitz) (24.2)\n",
            "Requirement already satisfied: typing-extensions>=4.6 in /usr/local/lib/python3.11/dist-packages (from nibabel->fitz) (4.14.0)\n",
            "Requirement already satisfied: click>=6.6.0 in /usr/local/lib/python3.11/dist-packages (from nipype->fitz) (8.2.1)\n",
            "Requirement already satisfied: networkx>=2.5 in /usr/local/lib/python3.11/dist-packages (from nipype->fitz) (3.5)\n",
            "Requirement already satisfied: prov>=1.5.2 in /usr/local/lib/python3.11/dist-packages (from nipype->fitz) (2.0.2)\n",
            "Requirement already satisfied: pydot>=1.2.3 in /usr/local/lib/python3.11/dist-packages (from nipype->fitz) (3.0.4)\n",
            "Requirement already satisfied: python-dateutil>=2.2 in /usr/local/lib/python3.11/dist-packages (from nipype->fitz) (2.9.0.post0)\n",
            "Requirement already satisfied: rdflib>=5.0.0 in /usr/local/lib/python3.11/dist-packages (from nipype->fitz) (7.1.4)\n",
            "Requirement already satisfied: simplejson>=3.8.0 in /usr/local/lib/python3.11/dist-packages (from nipype->fitz) (3.20.1)\n",
            "Requirement already satisfied: traits>=6.2 in /usr/local/lib/python3.11/dist-packages (from nipype->fitz) (7.0.2)\n",
            "Requirement already satisfied: filelock>=3.0.0 in /usr/local/lib/python3.11/dist-packages (from nipype->fitz) (3.18.0)\n",
            "Requirement already satisfied: acres in /usr/local/lib/python3.11/dist-packages (from nipype->fitz) (0.5.0)\n",
            "Requirement already satisfied: etelemetry>=0.3.1 in /usr/local/lib/python3.11/dist-packages (from nipype->fitz) (0.3.1)\n",
            "Requirement already satisfied: looseversion!=1.2 in /usr/local/lib/python3.11/dist-packages (from nipype->fitz) (1.3.0)\n",
            "Requirement already satisfied: puremagic in /usr/local/lib/python3.11/dist-packages (from nipype->fitz) (1.29)\n",
            "Requirement already satisfied: pytz>=2020.1 in /usr/local/lib/python3.11/dist-packages (from pandas->fitz) (2025.2)\n",
            "Requirement already satisfied: tzdata>=2022.7 in /usr/local/lib/python3.11/dist-packages (from pandas->fitz) (2025.2)\n",
            "Requirement already satisfied: lxml>=4.3 in /usr/local/lib/python3.11/dist-packages (from pyxnat->fitz) (5.4.0)\n",
            "Requirement already satisfied: requests>=2.20 in /usr/local/lib/python3.11/dist-packages (from pyxnat->fitz) (2.32.3)\n",
            "Requirement already satisfied: pathlib>=1.0 in /usr/local/lib/python3.11/dist-packages (from pyxnat->fitz) (1.0.1)\n",
            "Requirement already satisfied: ci-info>=0.2 in /usr/local/lib/python3.11/dist-packages (from etelemetry>=0.3.1->nipype->fitz) (0.3.0)\n",
            "Requirement already satisfied: six>=1.5 in /usr/local/lib/python3.11/dist-packages (from python-dateutil>=2.2->nipype->fitz) (1.17.0)\n",
            "Requirement already satisfied: charset-normalizer<4,>=2 in /usr/local/lib/python3.11/dist-packages (from requests>=2.20->pyxnat->fitz) (3.4.2)\n",
            "Requirement already satisfied: idna<4,>=2.5 in /usr/local/lib/python3.11/dist-packages (from requests>=2.20->pyxnat->fitz) (3.10)\n",
            "Requirement already satisfied: urllib3<3,>=1.21.1 in /usr/local/lib/python3.11/dist-packages (from requests>=2.20->pyxnat->fitz) (2.4.0)\n",
            "Requirement already satisfied: certifi>=2017.4.17 in /usr/local/lib/python3.11/dist-packages (from requests>=2.20->pyxnat->fitz) (2025.4.26)\n"
          ]
        }
      ]
    },
    {
      "cell_type": "code",
      "source": [
        "!pip install pdfplumber"
      ],
      "metadata": {
        "id": "aG0weXTY7PpX",
        "outputId": "7f9ec308-bcc5-4723-d061-44d25e5f42bf",
        "colab": {
          "base_uri": "https://localhost:8080/"
        }
      },
      "execution_count": 3,
      "outputs": [
        {
          "output_type": "stream",
          "name": "stdout",
          "text": [
            "Requirement already satisfied: pdfplumber in /usr/local/lib/python3.11/dist-packages (0.11.7)\n",
            "Requirement already satisfied: pdfminer.six==20250506 in /usr/local/lib/python3.11/dist-packages (from pdfplumber) (20250506)\n",
            "Requirement already satisfied: Pillow>=9.1 in /usr/local/lib/python3.11/dist-packages (from pdfplumber) (11.2.1)\n",
            "Requirement already satisfied: pypdfium2>=4.18.0 in /usr/local/lib/python3.11/dist-packages (from pdfplumber) (4.30.1)\n",
            "Requirement already satisfied: charset-normalizer>=2.0.0 in /usr/local/lib/python3.11/dist-packages (from pdfminer.six==20250506->pdfplumber) (3.4.2)\n",
            "Requirement already satisfied: cryptography>=36.0.0 in /usr/local/lib/python3.11/dist-packages (from pdfminer.six==20250506->pdfplumber) (43.0.3)\n",
            "Requirement already satisfied: cffi>=1.12 in /usr/local/lib/python3.11/dist-packages (from cryptography>=36.0.0->pdfminer.six==20250506->pdfplumber) (1.17.1)\n",
            "Requirement already satisfied: pycparser in /usr/local/lib/python3.11/dist-packages (from cffi>=1.12->cryptography>=36.0.0->pdfminer.six==20250506->pdfplumber) (2.22)\n"
          ]
        }
      ]
    },
    {
      "cell_type": "code",
      "source": [
        "!pip install PyMuPDF"
      ],
      "metadata": {
        "id": "ZWC96hiw98tF",
        "outputId": "cb0d840e-5850-46f6-8251-31d9202a465c",
        "colab": {
          "base_uri": "https://localhost:8080/"
        }
      },
      "execution_count": 5,
      "outputs": [
        {
          "output_type": "stream",
          "name": "stdout",
          "text": [
            "Collecting PyMuPDF\n",
            "  Downloading pymupdf-1.26.1-cp39-abi3-manylinux_2_28_x86_64.whl.metadata (3.4 kB)\n",
            "Downloading pymupdf-1.26.1-cp39-abi3-manylinux_2_28_x86_64.whl (24.1 MB)\n",
            "\u001b[2K   \u001b[90m━━━━━━━━━━━━━━━━━━━━━━━━━━━━━━━━━━━━━━━━\u001b[0m \u001b[32m24.1/24.1 MB\u001b[0m \u001b[31m61.2 MB/s\u001b[0m eta \u001b[36m0:00:00\u001b[0m\n",
            "\u001b[?25hInstalling collected packages: PyMuPDF\n",
            "Successfully installed PyMuPDF-1.26.1\n"
          ]
        }
      ]
    },
    {
      "cell_type": "code",
      "source": [
        "from PyPDF2 import PdfReader\n",
        "from tqdm import tqdm\n",
        "reader = PdfReader(\"Psychology2e_WEB.pdf\")\n",
        "import re\n",
        "text = \"\"\n",
        "def clean_text(text):\n",
        "    # Simple cleaning function\n",
        "    text = re.sub(r'\\s+', ' ', text)  # Normalize whitespace\n",
        "    text = text.strip()\n",
        "    return text\n",
        "#parsing a single page\n",
        "print(clean_text(reader.pages[94].extract_text()))\n",
        "\n",
        "'''\n",
        "for page in tqdm(reader.pages):\n",
        "    text += page.extract_text() + \"\\n\"\n",
        "\n",
        "with open(\"Psychology2e_WEB.txt\", \"w\", encoding=\"utf-8\") as f:\n",
        "    f.write(text)\n",
        "print(\"PDF text extraction complete. Text saved to 'Data/Psychology2e_WEB.txt'.\")'''"
      ],
      "metadata": {
        "_uuid": "8f2839f25d086af736a60e9eeb907d3b93b6e0e5",
        "_cell_guid": "b1076dfc-b9ad-4769-8c92-a6c4dae69d19",
        "trusted": true,
        "id": "rh0RIVrl4Nst",
        "outputId": "2b95a7d7-330c-4d25-8bb7-f0cbf7379820",
        "colab": {
          "base_uri": "https://localhost:8080/",
          "height": 109
        }
      },
      "outputs": [
        {
          "output_type": "stream",
          "name": "stdout",
          "text": [
            "Neur otransmitters and Drugs There are sev eral diff erent typ es o fneurotransmit ters rele ased by diff erent neurons , and w e can sp eak in broad terms a bout the kinds o f functions as sociated with diff erent neurotransmit ters ( Table 3.1 ). Much o f wha t psychologis ts kno w about the functions o f neurotransmit ters c omes from rese arch on the eff ects o f drugs in psychologic al disorders . Psychologis ts who tak e abiologic al p ersp ectiveand f ocus on the ph ysiologic al causes o f behavior as sert tha t psychologic al disorders lik e depres sion and schiz ophrenia are as sociated with imb alanc es in one or more neurotransmit ter s ystems . In this p ersp ectiv e, psychotropic me dications c an help impro ve the s ymptoms as sociated with these disorders .Psychotropic me dications are dr ugs tha t tre at psychia tric s ymptoms b y res toring neurotransmit ter b alanc e. Major Neur otransmit ters and Ho w The y Af fect Beha vior Neur otransmit ter Involved in Potential Ef fect on Beha vior Acetylcholine Muscle action, memor y Incr eased ar ousal , enhanc ed c ognition Beta -endorphin Pain, pleasur e Decr eased anxiety , decr eased t ension Dopamine Mood, sleep , learning Incr eased pleasur e, suppr essed appetit e Gamma -aminobutyric acid (GAB A) Brain function, sleep Decr eased anxiety , decr eased t ension Glutamat e Memor y, learning Incr eased learning , enhanc ed memor y Norepinephrine Hear t, int estines , aler tnes sIncr eased ar ousal , suppr essed appetit e Serotonin Mood, sleep Modulat ed mood, suppr essed appetit e TABLE 3.1 Psychoactiv e dr ugs c an act as a gonis ts or anta gonis ts for a giv en neurotransmit ter s ystem .Agonis tsare chemic als tha t mimic a neurotransmit ter a t the rec eptor site . An anta gonis t, on the other hand , blo cks or imp edes the normal activity o f a neurotransmit ter a t the rec eptor . Agonis ts and anta gonis ts represent dr ugs that are prescrib ed to c orrect the sp ecific neurotransmit ter imb alanc es underlying a p erson ’s condition . For example , Parkinson 's dise ase, a progres sive ner vous s ystem disorder , is as sociated with lo w lev els o f dop amine . Theref ore, a c ommon tre atment s trategy for P arkinson 's dise ase in volves using dop amine a gonis ts, which mimic the eff ects o f dop amine b y binding to dop amine rec eptors . Certain s ymptoms o f schiz ophrenia are as sociated with o veractiv e dop amine neurotransmis sion . The antips ychotics use d to tre at these s ymptoms are anta gonis ts for dop amine —the y blo ck dop amine ’s eff ects b y binding its rec eptors without activ ating them . Thus , the y prev ent dop amine rele ased by one neuron from signaling inf orma tion to adjac ent neurons . In contras t to a gonis ts and anta gonis ts, which b oth op erate by binding to rec eptor sites , reuptak e inhibitors prev ent unuse d neurotransmit ters from b eing transp orted back to the neuron . This allo ws neurotransmit ters to remain activ e in the s ynaptic cleft f or long er dura tions , incre asing their eff ectiv enes s. Depres sion , which has b een c onsis tently link ed with re duced serotonin lev els, is c ommonly tre ated with selectiv e serotonin reuptak e inhibitors (S SRIs). B y prev enting reuptak e, SSRIs s trengthen the eff ect o f serotonin , giving it more time to interact with serotonin rec eptors on dendrites . Common S SRIs on the mark et to day include P rozac, Paxil, and Z oloft. The dr ug LSD is s tructurally v ery similar to serotonin , and it a ffects the same neurons and receptors as serotonin . Psychotropic dr ugs are not ins tant solutions f or p eople suff ering from ps ychologic al disorders . Often , an individual mus t tak e a dr ug for sev eral w eeks b efore seeing impro vement , and man y3.2 • Cel ls of the Ner vous Sy stem 83\n"
          ]
        },
        {
          "output_type": "execute_result",
          "data": {
            "text/plain": [
              "'\\nfor page in tqdm(reader.pages):\\n    text += page.extract_text() + \"\\n\"\\n\\nwith open(\"Psychology2e_WEB.txt\", \"w\", encoding=\"utf-8\") as f:\\n    f.write(text)\\nprint(\"PDF text extraction complete. Text saved to \\'Data/Psychology2e_WEB.txt\\'.\")'"
            ],
            "application/vnd.google.colaboratory.intrinsic+json": {
              "type": "string"
            }
          },
          "metadata": {},
          "execution_count": 16
        }
      ],
      "execution_count": 16
    },
    {
      "cell_type": "code",
      "source": [
        "import pdfplumber\n",
        "import re\n",
        "\n",
        "\n",
        "\n",
        "def clean_text(text):\n",
        "    # Normalize whitespace and strip\n",
        "    text = re.sub(r'\\s+', ' ', text)\n",
        "    return text.strip()\n",
        "\n",
        "def extract_and_clean_pages(pdf_path):\n",
        "    pages_data = []\n",
        "    with pdfplumber.open(pdf_path) as pdf:\n",
        "        for i, page in enumerate(pdf.pages):\n",
        "            raw_text = page.extract_text()\n",
        "            if raw_text:\n",
        "                cleaned_text = clean_text(raw_text)\n",
        "            else:\n",
        "                cleaned_text = \"\"\n",
        "\n",
        "            pages_data.append({\n",
        "                \"page_num\": i + 1,\n",
        "                \"text\": cleaned_text\n",
        "            })\n",
        "    return pages_data\n",
        "\n",
        "pdf_path = \"Psychology2e_WEB.pdf\"\n",
        "pages = extract_and_clean_pages(pdf_path)\n",
        "\n",
        "for page in pages[:3]:  # Preview first 3 pages\n",
        "    print(f\"Page {page['page_num']}:\\n{page['text'][:300]}...\\n\")\n"
      ],
      "metadata": {
        "id": "DWkLjjEq50V6",
        "outputId": "2ed68080-6b3b-4cf8-da30-393f01a5af34",
        "colab": {
          "base_uri": "https://localhost:8080/"
        }
      },
      "execution_count": 22,
      "outputs": [
        {
          "output_type": "stream",
          "name": "stdout",
          "text": [
            "Page 1:\n",
            "...\n",
            "\n",
            "Page 2:\n",
            "...\n",
            "\n",
            "Page 3:\n",
            "Psychology 2e SENIOR CONTRIBUTING AUTHORS ROSE M. SPIELMAN, FORMERLY OF QUINNIPIAC UNIVERSITY WILLIAM J. JENKINS, MERCER UNIVERSITY MARILYN D. LOVETT, SPELMAN COLLEGE...\n",
            "\n"
          ]
        }
      ]
    },
    {
      "cell_type": "code",
      "source": [
        "pages[19] #observing each page parse"
      ],
      "metadata": {
        "id": "4n_hMKIk_keY",
        "outputId": "1ba166e9-faa8-452e-a321-8a568919f3b1",
        "colab": {
          "base_uri": "https://localhost:8080/"
        }
      },
      "execution_count": 23,
      "outputs": [
        {
          "output_type": "execute_result",
          "data": {
            "text/plain": [
              "{'page_num': 20,\n",
              " 'text': '8 1 • Introduction to Psychology 2002). Nash was the subject of the 2001 movieA Beautiful Mind. Why did these people have these experiences? How does the human brain work? And what is the connection between the brain’s internal processes and people’s external behaviors? This textbook will introduce you to various ways that the field of psychology has explored these questions. 1.1What Is Psychology? LEARNING OBJECTIVES By the end of this section, you will be able to: • Define psychology • Understand the merits of an education in psychology What is creativity? What are prejudice and discrimination? What is consciousness? The field of psychology explores questions like these.Psychologyrefers to the scientific study of the mind and behavior. Psychologists use the scientific method to acquire knowledge. To apply the scientific method, a researcher with a question about how or why something happens will propose a tentative explanation, called a hypothesis, to explain the phenomenon. A hypothesis should fit into the context of a scientific theory, which is a broad explanation or group of explanations for some aspect of the natural world that is consistently supported by evidence over time. A theory is the best understanding we have of that part of the natural world. The researcher then makes observations or carries out an experiment to test the validity of the hypothesis. Those results are then published or presented at research conferences so that others can replicate or build on the results. Scientists test that which is perceivable and measurable. For example, the hypothesis that a bird sings because it is happy is not a hypothesis that can be tested since we have no way to measure the happiness of a bird. We must ask a different question, perhaps about the brain state of the bird, since this can be measured. However, we can ask individuals about whether they sing because they are happy since they are able to tell us. Thus, psychological science is empirical, based on measurable data. In general, science deals only with matter and energy, that is, those things that can be measured, and it cannot arrive at knowledge about values and morality. This is one reason why our scientific understanding of the mind is so limited, since thoughts, at least as we experience them, are neither matter nor energy. The scientific method is also a form of empiricism. Anempirical methodfor acquiring knowledge is one based on observation, including experimentation, rather than a method based only on forms of logical argument or previous authorities. It was not until the late 1800s that psychology became accepted as its own academic discipline. Before this time, the workings of the mind were considered under the auspices of philosophy. Given that any behavior is, at its roots, biological, some areas of psychology take on aspects of a natural science like biology. No biological organism exists in isolation, and our behavior is influenced by our interactions with others. Therefore, psychology is also a social science. WHY STUDY PSYCHOLOGY? Often, students take their first psychology course because they are interested in helping others and want to learn more about themselves and why they act the way they do. Sometimes, students take a psychology course because it either satisfies a general education requirement or is required for a program of study such as nursing or pre-med. Many of these students develop such an interest in the area that they go on to declare psychology as their major. As a result, psychology is one of the most popular majors on college campuses across the United States (Johnson & Lubin, 2011). A number of well-known individuals were psychology majors. Just a few famous names on this list are Facebook’s creator Mark Zuckerberg, television personality and political satirist Jon Stewart, actress Natalie Portman, and filmmaker Wes Craven (Halonen, 2011). About 6 percent of all bachelor degrees granted in the United States are in the discipline of psychology (U.S. Department of Education, 2016). Access for free at openstax.org'}"
            ]
          },
          "metadata": {},
          "execution_count": 23
        }
      ]
    },
    {
      "cell_type": "code",
      "source": [
        "#observing the actual pdf textbook source, we are going to remove unwanted pages like the preface, glossary, appendix, table of contents"
      ],
      "metadata": {
        "id": "RRduQB9a__uw"
      },
      "execution_count": null,
      "outputs": []
    },
    {
      "cell_type": "code",
      "source": [
        "with open(\"pagewise.txt\", \"w\", encoding=\"utf-8\") as f:\n",
        "    for i in range(len(pages)):\n",
        "      f.write(str(pages[i]))\n",
        "      f.write(\"\\n\\n\")"
      ],
      "metadata": {
        "id": "zWqoArZUB5OL"
      },
      "execution_count": 27,
      "outputs": []
    }
  ]
}